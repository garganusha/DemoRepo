{
 "cells": [
  {
   "cell_type": "code",
   "execution_count": 2,
   "id": "c555eb29",
   "metadata": {},
   "outputs": [
    {
     "name": "stdout",
     "output_type": "stream",
     "text": [
      "hello world\n"
     ]
    }
   ],
   "source": [
    "print('hello world')"
   ]
  },
  {
   "cell_type": "code",
   "execution_count": 5,
   "id": "909cfa76",
   "metadata": {},
   "outputs": [
    {
     "name": "stdout",
     "output_type": "stream",
     "text": [
      "10\n"
     ]
    }
   ],
   "source": [
    "print(10)"
   ]
  },
  {
   "cell_type": "code",
   "execution_count": 4,
   "id": "f7be6493",
   "metadata": {},
   "outputs": [
    {
     "name": "stdout",
     "output_type": "stream",
     "text": [
      "10\n",
      "20\n",
      "Anusha\n"
     ]
    }
   ],
   "source": [
    "x=10\n",
    "y=20\n",
    "Myname= 'Anusha'\n",
    "\n",
    "print(x)\n",
    "print(y)\n",
    "print(Myname)"
   ]
  },
  {
   "cell_type": "code",
   "execution_count": 6,
   "id": "d7fc9d27",
   "metadata": {},
   "outputs": [
    {
     "name": "stdout",
     "output_type": "stream",
     "text": [
      "the sum is 10\n"
     ]
    }
   ],
   "source": [
    "a=5\n",
    "b=5\n",
    "print('the sum is',a+b)"
   ]
  },
  {
   "cell_type": "code",
   "execution_count": null,
   "id": "20e06cfd",
   "metadata": {},
   "outputs": [],
   "source": []
  }
 ],
 "metadata": {
  "kernelspec": {
   "display_name": "Python 3 (ipykernel)",
   "language": "python",
   "name": "python3"
  },
  "language_info": {
   "codemirror_mode": {
    "name": "ipython",
    "version": 3
   },
   "file_extension": ".py",
   "mimetype": "text/x-python",
   "name": "python",
   "nbconvert_exporter": "python",
   "pygments_lexer": "ipython3",
   "version": "3.9.12"
  }
 },
 "nbformat": 4,
 "nbformat_minor": 5
}
